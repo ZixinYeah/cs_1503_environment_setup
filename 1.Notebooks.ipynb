{
 "cells": [
  {
   "cell_type": "markdown",
   "id": "3d4ade06",
   "metadata": {},
   "source": [
    "# Recitation 1"
   ]
  },
  {
   "cell_type": "markdown",
   "id": "bcc3725d",
   "metadata": {},
   "source": [
    "1. Zixin Ye\n",
    "2. Jan 25, 2024"
   ]
  },
  {
   "cell_type": "markdown",
   "id": "40cd0e70",
   "metadata": {},
   "source": [
    "## Markdown Exercises"
   ]
  },
  {
   "cell_type": "markdown",
   "id": "588b51b5",
   "metadata": {},
   "source": [
    "**Q: Why are you or are you not interested in machine learning?**"
   ]
  },
  {
   "cell_type": "markdown",
   "id": "7fae1aa3",
   "metadata": {},
   "source": [
    "A: I am interested in machine learning because it is so popular these days."
   ]
  },
  {
   "cell_type": "markdown",
   "id": "d322d5ce",
   "metadata": {},
   "source": [
    "*Q: Things you'd like to learn from this course?*"
   ]
  },
  {
   "cell_type": "markdown",
   "id": "84f33679",
   "metadata": {},
   "source": [
    "1. How machine learning is heavily grounded in basic principles of probability and statistics.\n",
    "2. Some machine learning methods and approaches.\n",
    "3. Analyzing and simulating random events applying principles of probability."
   ]
  },
  {
   "cell_type": "markdown",
   "id": "748e5a5a",
   "metadata": {},
   "source": [
    "![alt text](https://media.giphy.com/media/2A75RyXVzzSI2bx4Gj/giphy.gif?cid=790b7611w4qe5ygro0ot5xhak6wc5swyl3e9rizfm42paqz3&ep=v1_gifs_trending&rid=giphy.gif&ct=g)"
   ]
  },
  {
   "cell_type": "markdown",
   "id": "7c8525c7",
   "metadata": {},
   "source": [
    "## Jupyter Notebook Exercises"
   ]
  },
  {
   "cell_type": "code",
   "execution_count": 1,
   "id": "8096a35b",
   "metadata": {},
   "outputs": [
    {
     "name": "stdout",
     "output_type": "stream",
     "text": [
      "What is your name? Zixin\n",
      "Hello Zixin !\n"
     ]
    }
   ],
   "source": [
    "name = input(prompt=\"What is your name? \")\n",
    "print(\"Hello\", name, \"!\")"
   ]
  }
 ],
 "metadata": {
  "kernelspec": {
   "display_name": "Python 3 (ipykernel)",
   "language": "python",
   "name": "python3"
  },
  "language_info": {
   "codemirror_mode": {
    "name": "ipython",
    "version": 3
   },
   "file_extension": ".py",
   "mimetype": "text/x-python",
   "name": "python",
   "nbconvert_exporter": "python",
   "pygments_lexer": "ipython3",
   "version": "3.11.5"
  }
 },
 "nbformat": 4,
 "nbformat_minor": 5
}

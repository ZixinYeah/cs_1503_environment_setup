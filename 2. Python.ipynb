{
 "cells": [
  {
   "cell_type": "markdown",
   "metadata": {},
   "source": [
    "# 2. Programming in Python\n",
    "\n",
    "Go over these basics of the Python programming language if you need to refresh Python syntax. \n",
    "\n",
    "Do all the exercises at the end of this notebook -- but only if you are new to  Python. Use your TAs for help if you get stuck.\n",
    "\n",
    "If you already know how to program in Python, then go directly to **Exercise 7** and **Exercise 8** at the end of this notebook and complete them to self-test your skills.\n",
    "\n",
    "If you feel that you need more details on Python language, you can use the following book:"
   ]
  },
  {
   "cell_type": "markdown",
   "metadata": {},
   "source": [
    "## Book *Python for Everybody*\n",
    "\n",
    "*Python for Everybody* is a free online textbook published under the Creative Commons Licence that is a great starter and reference guide for python. The book is available as a PDF and epub from the writer for free [here](https://www.py4e.com/book.php).  Some sections of *Python for Everybody* have been adapted from another book, *How to think like a Computer Scientist: Learning with Python* by Allen Downey, Jeff Elkner and Chris Meyers.  This book is also available for free online [here](https://greenteapress.com/wp/learning-with-python/)."
   ]
  },
  {
   "cell_type": "markdown",
   "metadata": {},
   "source": [
    "## Strings\n",
    "* The syntax for strings is double (\") or single (') quotes."
   ]
  },
  {
   "cell_type": "code",
   "execution_count": null,
   "metadata": {},
   "outputs": [],
   "source": [
    "print(\"hello world\")"
   ]
  },
  {
   "cell_type": "code",
   "execution_count": null,
   "metadata": {},
   "outputs": [],
   "source": [
    "print(hello world)"
   ]
  },
  {
   "cell_type": "code",
   "execution_count": null,
   "metadata": {},
   "outputs": [],
   "source": [
    "type(\"Hello World\")"
   ]
  },
  {
   "cell_type": "code",
   "execution_count": null,
   "metadata": {},
   "outputs": [],
   "source": [
    "type('Hello World')"
   ]
  },
  {
   "cell_type": "markdown",
   "metadata": {},
   "source": [
    "* Note: You can't mix and match quotes!"
   ]
  },
  {
   "cell_type": "code",
   "execution_count": null,
   "metadata": {},
   "outputs": [],
   "source": [
    "print(\"Hello world')"
   ]
  },
  {
   "cell_type": "markdown",
   "metadata": {},
   "source": [
    "* Most people use double quotes because then you can embed apostrophes inside the text."
   ]
  },
  {
   "cell_type": "code",
   "execution_count": null,
   "metadata": {},
   "outputs": [],
   "source": [
    "print('I can','t even!')"
   ]
  },
  {
   "cell_type": "code",
   "execution_count": null,
   "metadata": {},
   "outputs": [],
   "source": [
    "print(\"I can't even, \\n either!\")"
   ]
  },
  {
   "cell_type": "markdown",
   "metadata": {},
   "source": [
    "---"
   ]
  },
  {
   "cell_type": "markdown",
   "metadata": {},
   "source": [
    "## Variables"
   ]
  },
  {
   "cell_type": "code",
   "execution_count": 7,
   "metadata": {},
   "outputs": [],
   "source": [
    "message = \"Hello, what a wonderful Thursday morning.\"\n",
    "number = 3\n",
    "pi = 3.1415926535897931"
   ]
  },
  {
   "cell_type": "markdown",
   "metadata": {},
   "source": [
    "* This code creates three variables of different data types.\n",
    "* The `type` of a variable is deduced freom the type of the value it refers to."
   ]
  },
  {
   "cell_type": "code",
   "execution_count": 8,
   "metadata": {},
   "outputs": [
    {
     "data": {
      "text/plain": [
       "str"
      ]
     },
     "execution_count": 8,
     "metadata": {},
     "output_type": "execute_result"
    }
   ],
   "source": [
    "type(message)"
   ]
  },
  {
   "cell_type": "code",
   "execution_count": 9,
   "metadata": {},
   "outputs": [
    {
     "data": {
      "text/plain": [
       "int"
      ]
     },
     "execution_count": 9,
     "metadata": {},
     "output_type": "execute_result"
    }
   ],
   "source": [
    "type(number)"
   ]
  },
  {
   "cell_type": "code",
   "execution_count": 10,
   "metadata": {},
   "outputs": [
    {
     "data": {
      "text/plain": [
       "float"
      ]
     },
     "execution_count": 10,
     "metadata": {},
     "output_type": "execute_result"
    }
   ],
   "source": [
    "type(pi)"
   ]
  },
  {
   "cell_type": "markdown",
   "metadata": {},
   "source": [
    "---"
   ]
  },
  {
   "cell_type": "markdown",
   "metadata": {},
   "source": [
    "## Operators\n",
    "\n",
    "* All of the mathematical operators you know and love are available in Python\n",
    "    * Addition: `+`\n",
    "    * Subtraction: `-`\n",
    "    * Multiplication: `*`\n",
    "    * Division: `/`  (the result is always a float)\n",
    "    * Integer division: `//` (produces an integral part of division without remainder)\n",
    "    * Modulus: `%` (remainder after integer division)"
   ]
  },
  {
   "cell_type": "markdown",
   "metadata": {},
   "source": [
    "### String Operators\n",
    "\n",
    "* You can concatenate strings using `+` operator. You cannot concatenate mixed data types in Python:"
   ]
  },
  {
   "cell_type": "code",
   "execution_count": null,
   "metadata": {},
   "outputs": [],
   "source": [
    "a = 2\n",
    "b = '2'\n",
    "\n",
    "a + b"
   ]
  },
  {
   "cell_type": "markdown",
   "metadata": {},
   "source": [
    "To correct: convert the number to string"
   ]
  },
  {
   "cell_type": "code",
   "execution_count": 11,
   "metadata": {},
   "outputs": [
    {
     "data": {
      "text/plain": [
       "'22'"
      ]
     },
     "execution_count": 11,
     "metadata": {},
     "output_type": "execute_result"
    }
   ],
   "source": [
    "a = str(2)\n",
    "b = '2'\n",
    "\n",
    "a + b"
   ]
  },
  {
   "cell_type": "markdown",
   "metadata": {},
   "source": [
    "---"
   ]
  },
  {
   "cell_type": "markdown",
   "metadata": {},
   "source": [
    "## User Input"
   ]
  },
  {
   "cell_type": "code",
   "execution_count": null,
   "metadata": {},
   "outputs": [],
   "source": [
    "# ask for the user's name and put it in a variable called name\n",
    "name = input(\"What is your name?\")"
   ]
  },
  {
   "cell_type": "code",
   "execution_count": null,
   "metadata": {},
   "outputs": [],
   "source": [
    "# now print the contents of the variable called name\n",
    "print(name)"
   ]
  },
  {
   "cell_type": "markdown",
   "metadata": {},
   "source": [
    "---"
   ]
  },
  {
   "cell_type": "markdown",
   "metadata": {},
   "source": [
    "## Functions\n",
    "\n",
    "A **function**, most basically, is a piece of code that executes together when you call the function's name."
   ]
  },
  {
   "cell_type": "code",
   "execution_count": null,
   "metadata": {},
   "outputs": [],
   "source": [
    "def lyrics():\n",
    "    print(\"This is the song that never ends.\")\n",
    "    print(\"It goes on and on, my friends.\")\n",
    "\n",
    "def song():\n",
    "    lyrics()\n",
    "    lyrics()\n",
    "    \n",
    "song()"
   ]
  },
  {
   "cell_type": "markdown",
   "metadata": {},
   "source": [
    "---"
   ]
  },
  {
   "cell_type": "markdown",
   "metadata": {},
   "source": [
    "## Control Flow\n",
    "\n",
    "* We use *boolean expressions* (True, False) to answer Yes/No questions and decide which path to execute."
   ]
  },
  {
   "cell_type": "markdown",
   "metadata": {},
   "source": [
    "### Conditional execution\n",
    "\n",
    "* use the `if`, `else`, and `elif` statements to steer the direction of your program.\n",
    "* indent the code block to show that it is executed when the condition is true."
   ]
  },
  {
   "cell_type": "code",
   "execution_count": null,
   "metadata": {},
   "outputs": [],
   "source": [
    "# test to see if x is positive and print if it is\n",
    "x = 5\n",
    "if x > 0:\n",
    "    print(\"x is a positive number\")"
   ]
  },
  {
   "cell_type": "code",
   "execution_count": null,
   "metadata": {},
   "outputs": [],
   "source": [
    "if x == 5:\n",
    "    print(\"yup\")\n",
    "    print(\"Yup, five is five\")"
   ]
  },
  {
   "cell_type": "code",
   "execution_count": null,
   "metadata": {},
   "outputs": [],
   "source": [
    "if 5 == 6:\n",
    "    print(\"five is six, huh?\")\n",
    "    print(\"this won't run\")\n",
    "    \n",
    "# This line executes no matter what\n",
    "print(\"I am done.\")"
   ]
  },
  {
   "cell_type": "code",
   "execution_count": null,
   "metadata": {},
   "outputs": [],
   "source": [
    "# check to see if x is even or odd\n",
    "x = 20\n",
    "if (x % 2) == 0: # using the modulo operator\n",
    "    print(\"x is even\")\n",
    "else:\n",
    "    print(\"x is odd\")"
   ]
  },
  {
   "cell_type": "code",
   "execution_count": null,
   "metadata": {},
   "outputs": [],
   "source": [
    "# multiple conditions\n",
    "age = int(input(\"Give me your age\"))\n",
    "\n",
    "if 0 < age < 1:\n",
    "    print(\"baby\")\n",
    "elif 1 <= age <= 3:\n",
    "    print(\"toddler\")\n",
    "elif 3 <= age <= 9:\n",
    "    print(\"kid\")\n",
    "elif 10 <= age <= 12:\n",
    "    print(\"Tween\")\n",
    "elif 13 <= age <= 17:\n",
    "    print(\"Teen\")\n",
    "elif 18 <= age < 120:\n",
    "    print(\"Adult, welcome to misery.\")\n",
    "else:\n",
    "    print(\"No one can live that long!\")\n",
    "    "
   ]
  },
  {
   "cell_type": "markdown",
   "metadata": {},
   "source": [
    "### While loops\n",
    "\n",
    "The while loops allow you to repeat an arbitrary section of code as long as some boolean condition is true:"
   ]
  },
  {
   "cell_type": "code",
   "execution_count": null,
   "metadata": {},
   "outputs": [],
   "source": [
    "count = 0\n",
    "\n",
    "while count<5:\n",
    "    lyrics()\n",
    "    count += 1"
   ]
  },
  {
   "cell_type": "markdown",
   "metadata": {},
   "source": [
    "### For loops\n",
    "For loops allow you to repeat a section of code a predefined number of times. There are no proper For loops in Python. All for loops are over sequences. \n",
    "\n",
    "If the sequence exists the loop body is executed for each element of the sequence:  "
   ]
  },
  {
   "cell_type": "code",
   "execution_count": 12,
   "metadata": {},
   "outputs": [
    {
     "name": "stdout",
     "output_type": "stream",
     "text": [
      "Hello, Bob\n",
      "Hello, Susan\n",
      "Hello, Noah\n",
      "Hello, Amanda\n"
     ]
    }
   ],
   "source": [
    "my_friends = [\"Bob\", \"Susan\", \"Noah\", \"Amanda\"]\n",
    "\n",
    "for friend in my_friends:\n",
    "    print(\"Hello,\", friend)"
   ]
  },
  {
   "cell_type": "markdown",
   "metadata": {},
   "source": [
    "But for example to execute the *lyrics* function 5 times, we first need to create a sequence of numbers (0,1,2,3,4) and then use the for loop that iterates over this sequence."
   ]
  },
  {
   "cell_type": "code",
   "execution_count": 13,
   "metadata": {},
   "outputs": [
    {
     "name": "stdout",
     "output_type": "stream",
     "text": [
      "This is the song that never ends.\n",
      "It goes on and on, my friends.\n"
     ]
    },
    {
     "ename": "NameError",
     "evalue": "name 'count' is not defined",
     "output_type": "error",
     "traceback": [
      "\u001b[0;31m---------------------------------------------------------------------------\u001b[0m",
      "\u001b[0;31mNameError\u001b[0m                                 Traceback (most recent call last)",
      "Cell \u001b[0;32mIn[13], line 7\u001b[0m\n\u001b[1;32m      5\u001b[0m \u001b[38;5;28;01mfor\u001b[39;00m i \u001b[38;5;129;01min\u001b[39;00m \u001b[38;5;28mrange\u001b[39m(\u001b[38;5;241m5\u001b[39m):\n\u001b[1;32m      6\u001b[0m     lyrics()\n\u001b[0;32m----> 7\u001b[0m     count \u001b[38;5;241m+\u001b[39m\u001b[38;5;241m=\u001b[39m \u001b[38;5;241m1\u001b[39m\n",
      "\u001b[0;31mNameError\u001b[0m: name 'count' is not defined"
     ]
    }
   ],
   "source": [
    "def lyrics():\n",
    "    print(\"This is the song that never ends.\")\n",
    "    print(\"It goes on and on, my friends.\")\n",
    "\n",
    "for i in range(5):\n",
    "    lyrics()\n",
    "    count += 1"
   ]
  },
  {
   "cell_type": "markdown",
   "metadata": {},
   "source": [
    "---"
   ]
  },
  {
   "cell_type": "markdown",
   "metadata": {},
   "source": [
    "## Exception Handling\n",
    "\n",
    "* Sometimes you rely on the user to give you a number but they give you something else\n",
    "* If you try to convert this input to a number you will get an error\n",
    "\n",
    "Try to run the following and enter the string \"two\" when prompted:"
   ]
  },
  {
   "cell_type": "code",
   "execution_count": null,
   "metadata": {},
   "outputs": [],
   "source": [
    "# prompt the user for a number\n",
    "number = input(\"Input a number:\")\n",
    "doubled = number*2"
   ]
  },
  {
   "cell_type": "markdown",
   "metadata": {},
   "source": [
    "You can use the `try/except` statements to \"catch\" user error."
   ]
  },
  {
   "cell_type": "code",
   "execution_count": null,
   "metadata": {},
   "outputs": [],
   "source": [
    "# prompt the user for a number\n",
    "number = input(\"Input a number:\")\n",
    "try:\n",
    "    int_number = int(number)\n",
    "    print(\"Thank you for inputting an integer\")\n",
    "except:    \n",
    "    print(\"That is not a number. Try again\")"
   ]
  },
  {
   "cell_type": "markdown",
   "metadata": {},
   "source": [
    "---"
   ]
  },
  {
   "cell_type": "markdown",
   "metadata": {},
   "source": [
    "## Packages\n",
    "\n",
    "Functionalities provided by Python are grouped into **packages**. To use the functionality defined in the package just put the words `import` and the package name you want to import. "
   ]
  },
  {
   "cell_type": "code",
   "execution_count": null,
   "metadata": {},
   "outputs": [],
   "source": [
    "import random # see how easy that is?\n",
    "\n",
    "x = random.random()\n",
    "print(x)"
   ]
  },
  {
   "cell_type": "markdown",
   "metadata": {},
   "source": [
    "---"
   ]
  },
  {
   "cell_type": "markdown",
   "metadata": {},
   "source": [
    "## Files\n",
    "\n",
    "Opening files in Python is just as simple as knowing the name of the file.\n",
    "\n",
    "Whenever you open a file, you should always *always* **always** make sure you **close the file!**. Not closing a file has many potential side effects."
   ]
  },
  {
   "cell_type": "code",
   "execution_count": null,
   "metadata": {},
   "outputs": [],
   "source": [
    "myfile = open(\"info.txt\")\n",
    "count = 0\n",
    "\n",
    "for line in myfile:\n",
    "    count = count + 1\n",
    "print('Line Count:', count)"
   ]
  },
  {
   "cell_type": "code",
   "execution_count": 17,
   "metadata": {},
   "outputs": [
    {
     "name": "stdout",
     "output_type": "stream",
     "text": [
      "['Jeff', 'Goldblum']\n",
      "['69']\n"
     ]
    }
   ],
   "source": [
    "infofile = open(\"info.txt\")\n",
    "\n",
    "firstline = infofile.readline()\n",
    "secondline = infofile.readline()\n",
    "\n",
    "f = firstline.split()\n",
    "s = secondline.split()\n",
    "\n",
    "print(f)\n",
    "print(s)\n",
    "\n",
    "infofile.close()"
   ]
  },
  {
   "cell_type": "markdown",
   "metadata": {},
   "source": [
    "---"
   ]
  },
  {
   "cell_type": "markdown",
   "metadata": {},
   "source": [
    "## Lists"
   ]
  },
  {
   "cell_type": "code",
   "execution_count": 18,
   "metadata": {},
   "outputs": [
    {
     "name": "stdout",
     "output_type": "stream",
     "text": [
      "Hello, Bob\n",
      "Hello, Samson\n",
      "Hello, Tom\n",
      "Hello, Amanda\n"
     ]
    }
   ],
   "source": [
    "my_friends = [\"Bob\", \"Samson\", \"Tom\", \"Amanda\"]\n",
    "\n",
    "for friend in my_friends:\n",
    "    print(\"Hello,\", friend)"
   ]
  },
  {
   "cell_type": "code",
   "execution_count": 19,
   "metadata": {},
   "outputs": [
    {
     "data": {
      "text/plain": [
       "['Amanda', 'Bob', 'Jeff', 'Samson', 'Tom']"
      ]
     },
     "execution_count": 19,
     "metadata": {},
     "output_type": "execute_result"
    }
   ],
   "source": [
    "my_friends.append(\"Jeff\")\n",
    "my_friends.sort()\n",
    "my_friends"
   ]
  },
  {
   "cell_type": "code",
   "execution_count": 20,
   "metadata": {},
   "outputs": [
    {
     "data": {
      "text/plain": [
       "['Amanda', 'Bob', 'Jeff', 'Samson']"
      ]
     },
     "execution_count": 20,
     "metadata": {},
     "output_type": "execute_result"
    }
   ],
   "source": [
    "my_friends.remove(\"Tom\")\n",
    "my_friends"
   ]
  },
  {
   "cell_type": "markdown",
   "metadata": {},
   "source": [
    "---"
   ]
  },
  {
   "cell_type": "markdown",
   "metadata": {},
   "source": [
    "## Dictionaries\n",
    "* key-value pairs\n",
    "* fast lookup of a value by key"
   ]
  },
  {
   "cell_type": "code",
   "execution_count": 46,
   "metadata": {},
   "outputs": [
    {
     "name": "stdout",
     "output_type": "stream",
     "text": [
      "1\n"
     ]
    }
   ],
   "source": [
    "counts = {'chuck': 1 , 'annie': 42, 'jan': 100}\n",
    "\n",
    "print(counts['chuck'])"
   ]
  },
  {
   "cell_type": "code",
   "execution_count": 49,
   "metadata": {},
   "outputs": [
    {
     "name": "stdout",
     "output_type": "stream",
     "text": [
      "{'chuck': 2, 'annie': 42, 'jan': 100, 'lucy': 5}\n"
     ]
    }
   ],
   "source": [
    "counts['lucy'] = 5\n",
    "\n",
    "print(counts)"
   ]
  },
  {
   "cell_type": "code",
   "execution_count": null,
   "metadata": {},
   "outputs": [],
   "source": [
    "coolfriends = {'Susanne': True, 'Bob': True, 'Tom': False}\n",
    "french = {\n",
    "    'hello': 'bonjour',\n",
    "    'your elephant is on fire': 'ton éléphant est en feu',\n",
    "    'ask the owl': 'demander à la choutte',\n",
    "}\n",
    "\n",
    "print(\"Is Tom a cool friend?\", coolfriends['Tom'])\n",
    "print(\"'Hello' in French is\", french['hello'])"
   ]
  },
  {
   "cell_type": "markdown",
   "metadata": {},
   "source": [
    "## Test yourself with these exercises\n",
    "\n",
    "#### **Exercise 1**\n",
    "\n",
    "Write a program which prompts the user for a **temperature** and then asks if it was Celsius or Fahrenheit. If it was Celsius, **convert it** to Fahrenheit; if Fahrenheit, convert to Celsius. Then, **print** the converted temperature. \n",
    "\n",
    "Make sure that the program does not fail when the user enters an invalid input.\n",
    "\n",
    "You'll have to search for the conversion formula and then implement it in code. Also, you don't have to ask the user to type in \"Celsius\" or \"Fahrenheit\"; your prompt can be as simple as \"Enter 1 if this temperature was Fahrenheit, or 0 if it was Celsius.\" That way, you're able to do something like `if isFahrenheit == 0` rather than exact string matching."
   ]
  },
  {
   "cell_type": "code",
   "execution_count": 11,
   "metadata": {},
   "outputs": [
    {
     "name": "stdout",
     "output_type": "stream",
     "text": [
      "Enter a temperature: 100\n",
      "Enter 1 if this temperature was Fahrenheit, or 0 if it was Celsius.0\n",
      "100 Celcius in Fahrenheit is 212\n"
     ]
    }
   ],
   "source": [
    "number = input(\"Enter a temperature: \")  \n",
    "unit = input(\"Enter 1 if this temperature was Fahrenheit, or 0 if it was Celsius.\")\n",
    "\n",
    "try:\n",
    "    number = int(number)\n",
    "    unit = int(unit)\n",
    "    if unit == 1:\n",
    "        converted = (number - 32) * 5 / 9\n",
    "        print(number, \"Fahrenheit in Celcius is\", int(converted))\n",
    "    elif unit == 0:\n",
    "        converted = (number * 9 / 5) + 32\n",
    "        print(number, \"Celcius in Fahrenheit is\", int(converted))\n",
    "    else:\n",
    "        print(\"Invalid number\")\n",
    "except:\n",
    "    print(\"Invalid input\")"
   ]
  },
  {
   "cell_type": "markdown",
   "metadata": {},
   "source": [
    "#### **Exercise 2**\n",
    "\n",
    "You're going to make a program that takes scores on a scale of 0 to 100 and returns a letter grade. If the user enters a valid score, print out a letter from A to F. If the user enters invalid input, print out an error message.\n",
    "\n",
    "Use the following table to do your conversions: \n",
    "    \n",
    "Score  | Grade\n",
    "-------|-------\n",
    "94-100 | A\n",
    "85-93  | B\n",
    "74-84  | C\n",
    "63-73  | D\n",
    "≤62    | F\n",
    "    \n",
    "(Note: this *isn't* the scale we're using in this class. Just an example. :D)\n",
    "\n",
    "Make sure you **test your program multiple times** with different inputs to make sure you handled errors and the different scores properly. You won't be graded on this, but **commenting** your code can make it easier for you to understand the many different statements in a row that you'll be writing."
   ]
  },
  {
   "cell_type": "code",
   "execution_count": null,
   "metadata": {},
   "outputs": [],
   "source": [
    "number = input(\"Enter a numerical score: \")\n",
    "\n",
    "try:\n",
    "    number = int(number)\n",
    "    if number > 100 or number < 0:\n",
    "        print(\"Invalid score!\")\n",
    "    elif number >= 94:\n",
    "        print(\"Letter score is A.\")\n",
    "    elif number >= 85:\n",
    "        print(\"Letter score is B.\")\n",
    "    elif number >= 74:\n",
    "        print(\"Letter score is C.\")\n",
    "    elif number >= 63:\n",
    "        print(\"Letter score is D.\")\n",
    "    else:\n",
    "        print(\"Letter score is F.\")\n",
    "except:\n",
    "    print(\"Invalid input!\")"
   ]
  },
  {
   "cell_type": "markdown",
   "metadata": {},
   "source": [
    "#### **Exercise 3**\n",
    "\n",
    "Write a program that **lets the user enter** as many integers as they want. When any input that's not an integer is entered, the user is done entering integers. After they're done, print out the **average** of all the integers entered.\n",
    "\n",
    "Be sure to test this with a wide range of numbers, to make sure it's doing what you want it to."
   ]
  },
  {
   "cell_type": "code",
   "execution_count": 4,
   "metadata": {},
   "outputs": [
    {
     "name": "stdout",
     "output_type": "stream",
     "text": [
      "Please enter an integer or anything else to finish entering integers: 100\n",
      "Please enter an integer or anything else to finish entering integers: 10.1\n",
      "The average of all the integers entered is: 100\n"
     ]
    }
   ],
   "source": [
    "flag = 0\n",
    "total = 0\n",
    "count = 0\n",
    "while flag == 0:\n",
    "    number = input(\"Please enter an integer or anything else to finish entering integers: \")\n",
    "    try:\n",
    "        number = int(number)\n",
    "        total = total + number\n",
    "        count = count + 1\n",
    "    except:\n",
    "        flag = 1\n",
    "ave = total // count\n",
    "print(\"The average of all the integers entered is:\", ave)"
   ]
  },
  {
   "cell_type": "markdown",
   "metadata": {},
   "source": [
    "#### **Exercise 4**\n",
    "\n",
    "Write a program that lets a user **enter a string**, and have your program **how many** vowels and consonants are in the word  (vowels are 'aeiou' -- the rest are consonants).\n",
    "\n",
    "You're going to want to convert the string to all lower-case before you do any counts of characters. \n",
    "\n",
    "Once you have the number of vowels, you don't have to loop through the word *again* to test for consonants. How can you find the number of consonants in a word with just the number of vowels?"
   ]
  },
  {
   "cell_type": "code",
   "execution_count": 18,
   "metadata": {},
   "outputs": [
    {
     "name": "stdout",
     "output_type": "stream",
     "text": [
      "Enter a string: AEiOUvvV\n",
      "There are 5 vowels and 3 consonants in AEiOUvvV\n"
     ]
    }
   ],
   "source": [
    "string = input(\"Enter a string: \")\n",
    "lowercase = string.lower()\n",
    "count = 0\n",
    "vowels = 0\n",
    "for char in lowercase:\n",
    "    if ord(char) == 97 or ord(char) == 101 or ord(char) == 105 or ord(char) == 111 or ord(char) == 117:\n",
    "        vowels = vowels + 1\n",
    "        count = count + 1\n",
    "    else:\n",
    "        count = count + 1\n",
    "print(\"There are\", vowels, \"vowels and\", count - vowels, \"consonants in\", string)"
   ]
  },
  {
   "cell_type": "markdown",
   "metadata": {},
   "source": [
    "#### **Exercise 5**\n",
    "\n",
    "Below, you are given a string from a spam filter. Using string methods, get rid of everything before the colon and the spacing until you have just the number. Then, convert the number into a float, and convert it into a percentage. Print out the percentage."
   ]
  },
  {
   "cell_type": "code",
   "execution_count": 23,
   "metadata": {},
   "outputs": [
    {
     "name": "stdout",
     "output_type": "stream",
     "text": [
      "84.75%\n"
     ]
    }
   ],
   "source": [
    "spam_string = 'X-DSPAM-Confidence: 0.8475 '\n",
    "\n",
    "number = spam_string.partition(\": \")[2]\n",
    "number = float(number)\n",
    "print(\"{:.2%}\".format(number))"
   ]
  },
  {
   "cell_type": "markdown",
   "metadata": {},
   "source": [
    "#### **Exercise 6**\n",
    "\n",
    "Below are the lines of a program that adds some things to a list of my favorite foods, sorts the list, and then prints the foods out in alphabetical order. The problem is that, when I was uploading this program to the supercomputer, my internet stopped working and my program's lines got all mixed up.\n",
    "\n",
    "Your task is this: rearrange the lines below so the program sorts and then prints the elements in my list of foods. When you've got the order all sorted out, put it in the code cell below. And thanks for your help!\n",
    "\n",
    "```python\n",
    "my_fave_foods.sort()\n",
    "for food in my_fave_foods:\n",
    "my_fave_foods.append(\"asiago cheese\")\n",
    "my_fave_foods = [\"serrano peppers\", \"bananas\", \"apple pie\", \"veal\", \"smoked brisket\"]\n",
    "    print(food)\n",
    "```"
   ]
  },
  {
   "cell_type": "code",
   "execution_count": 24,
   "metadata": {},
   "outputs": [
    {
     "name": "stdout",
     "output_type": "stream",
     "text": [
      "apple pie\n",
      "asiago cheese\n",
      "bananas\n",
      "serrano peppers\n",
      "smoked brisket\n",
      "veal\n"
     ]
    }
   ],
   "source": [
    "my_fave_foods = [\"serrano peppers\", \"bananas\", \"apple pie\", \"veal\", \"smoked brisket\"]\n",
    "my_fave_foods.append(\"asiago cheese\")\n",
    "my_fave_foods.sort()\n",
    "for food in my_fave_foods:\n",
    "    print(food)"
   ]
  },
  {
   "cell_type": "markdown",
   "metadata": {},
   "source": [
    "#### **Exercise 7**\n",
    "This exercise deals with a test file, `spam.txt`. \n",
    "\n",
    "You're going to be writing a program that deals with a list of spam confidence values. The file, spam.txt, looks something like this:"
   ]
  },
  {
   "cell_type": "raw",
   "metadata": {},
   "source": [
    "X-DSPAM-Confidence: 0.8475\n",
    "X-DSPAM-Confidence: 0.9288\n",
    "X-DSPAM-Confidence: 0.0129\n",
    "X-DSPAM-Confidence: 0.5102\n",
    "X-DSPAM-Confidence: 0.8912\n",
    "..."
   ]
  },
  {
   "cell_type": "markdown",
   "metadata": {},
   "source": [
    "There are 500 spam confidence values in the file `spam1.txt`. I want you to tell me two things about the values:\n",
    "\n",
    "1. The **average** of all of the spam values in the file, and\n",
    "1. **How many** emails have a spam value of over 95% (so, >0.95).\n",
    "\n",
    "You'll need to read the file line by line and process each line so you can get the float."
   ]
  },
  {
   "cell_type": "code",
   "execution_count": 63,
   "metadata": {},
   "outputs": [
    {
     "name": "stdout",
     "output_type": "stream",
     "text": [
      "The average of all of the spam values in the file is 0.7508 .\n",
      "68 emails have a spam value of over 95%.\n"
     ]
    }
   ],
   "source": [
    "myfile = open(\"spam.txt\")\n",
    "total = 0\n",
    "count = 0\n",
    "count2 = 0\n",
    "string = myfile.readline()\n",
    "while string:\n",
    "    number = string.partition(\": \")[2]\n",
    "    number = float(number)\n",
    "    total = total + number\n",
    "    count = count + 1\n",
    "    if number > 0.95:\n",
    "        count2 = count2 + 1\n",
    "    string = myfile.readline()\n",
    "ave = total / count\n",
    "print(\"The average of all of the spam values in the file is\", round(ave, 4), \".\")\n",
    "print(count2, \"emails have a spam value of over 95%.\")"
   ]
  },
  {
   "cell_type": "markdown",
   "metadata": {},
   "source": [
    "#### **Exercise 8**\n",
    "Read in the file richard3.txt. Iterate through the lines in the file and, for each word, if this is its first occurence, add the word as a key to the dictionary and the number \"1\" as a value. If the word exists in the dictionary, add one to its value.\n",
    "\n",
    "Then, print out your word-frequency dictionary."
   ]
  },
  {
   "cell_type": "code",
   "execution_count": 66,
   "metadata": {},
   "outputs": [
    {
     "name": "stdout",
     "output_type": "stream",
     "text": [
      "{'Now': 2, 'is': 1, 'the': 13, 'winter': 1, 'of': 10, 'our': 3, 'discontent': 1, 'Made': 1, 'glorious': 1, 'summer': 1, 'by': 3, 'this': 4, 'sun': 2, 'York': 1, 'And': 7, 'all': 1, 'clouds': 1, 'that': 6, \"lour'd\": 1, 'upon': 1, 'house': 1, 'In': 2, 'deep': 1, 'bosom': 1, 'ocean': 1, 'buried': 1, 'are': 1, 'brows': 1, 'bound': 1, 'with': 1, 'victorious': 1, 'wreaths': 1, 'Our': 3, 'bruised': 1, 'arms': 1, 'hung': 1, 'up': 3, 'for': 2, 'monuments': 1, 'stern': 1, 'alarums': 1, 'changed': 1, 'to': 7, 'merry': 1, 'meetings': 1, 'dreadful': 1, 'marches': 1, 'delightful': 1, 'measures': 1, 'Grim': 1, 'visaged': 1, 'war': 1, 'hath': 1, \"smooth'd\": 1, 'his': 1, 'wrinkled': 1, 'front': 1, 'now': 1, 'instead': 1, 'mounting': 1, 'barded': 1, 'steeds': 1, 'To': 5, 'fright': 1, 'souls': 1, 'fearful': 1, 'adversaries': 1, 'He': 1, 'capers': 1, 'nimbly': 1, 'in': 3, 'a': 6, \"lady's\": 1, 'chamber': 1, 'lascivious': 1, 'pleasing': 1, 'lute': 1, 'But': 1, 'I': 9, 'am': 5, 'not': 1, 'shaped': 1, 'sportive': 1, 'tricks': 1, 'Nor': 1, 'made': 2, 'court': 1, 'an': 1, 'amorous': 1, 'looking': 1, 'glass': 1, 'rudely': 1, \"stamp'd\": 1, 'and': 6, 'want': 1, \"love's\": 1, 'majesty': 1, 'strut': 1, 'before': 2, 'wanton': 1, 'ambling': 1, 'nymph': 1, \"curtail'd\": 1, 'fair': 2, 'proportion': 1, 'Cheated': 1, 'feature': 1, 'dissembling': 1, 'nature': 1, 'Deformed': 1, \"unfinish'd\": 1, 'sent': 1, 'my': 4, 'time': 3, 'Into': 1, 'breathing': 1, 'world': 1, 'scarce': 1, 'half': 1, 'so': 1, 'lamely': 1, 'unfashionable': 1, 'That': 1, 'dogs': 1, 'bark': 1, 'at': 1, 'me': 1, 'as': 2, 'halt': 1, 'them': 1, 'Why': 1, 'weak': 1, 'piping': 1, 'peace': 1, 'Have': 1, 'no': 1, 'delight': 1, 'pass': 1, 'away': 1, 'Unless': 1, 'spy': 1, 'shadow': 1, 'descant': 1, 'on': 1, 'mine': 1, 'own': 1, 'deformity': 1, 'therefore': 1, 'since': 1, 'cannot': 1, 'prove': 2, 'lover': 1, 'entertain': 1, 'these': 2, 'well': 1, 'spoken': 1, 'days': 2, 'determined': 1, 'villain': 1, 'hate': 2, 'idle': 1, 'pleasures': 1, 'Plots': 1, 'have': 1, 'laid': 1, 'inductions': 1, 'dangerous': 1, 'By': 1, 'drunken': 1, 'prophecies': 1, 'libels': 1, 'dreams': 1, 'set': 1, 'brother': 1, 'Clarence': 3, 'king': 1, 'deadly': 1, 'one': 1, 'against': 1, 'other': 1, 'if': 1, 'King': 1, 'Edward': 1, 'be': 3, 'true': 1, 'just': 1, 'As': 1, 'subtle': 1, 'false': 1, 'treacherous': 1, 'This': 1, 'day': 1, 'should': 1, 'closely': 1, \"mew'd\": 1, 'About': 1, 'prophecy': 1, 'which': 1, 'says': 1, 'G': 1, 'Of': 1, \"Edward's\": 1, 'heirs': 1, 'murderer': 1, 'shall': 1, 'Dive': 1, 'thoughts': 1, 'down': 1, 'soul': 1, 'here': 1, 'comes': 1}\n"
     ]
    }
   ],
   "source": [
    "myfile = open(\"richard3.txt\")\n",
    "counts = {}\n",
    "currline = myfile.readline()\n",
    "while currline:\n",
    "    words = currline.split()\n",
    "    for str in words:\n",
    "        if str in counts:\n",
    "            counts[str] += 1\n",
    "        else:\n",
    "            counts[str] = 1\n",
    "    currline = myfile.readline()\n",
    "print(counts)"
   ]
  },
  {
   "cell_type": "code",
   "execution_count": null,
   "metadata": {},
   "outputs": [],
   "source": []
  }
 ],
 "metadata": {
  "kernelspec": {
   "display_name": "Python 3 (ipykernel)",
   "language": "python",
   "name": "python3"
  },
  "language_info": {
   "codemirror_mode": {
    "name": "ipython",
    "version": 3
   },
   "file_extension": ".py",
   "mimetype": "text/x-python",
   "name": "python",
   "nbconvert_exporter": "python",
   "pygments_lexer": "ipython3",
   "version": "3.11.5"
  }
 },
 "nbformat": 4,
 "nbformat_minor": 4
}
